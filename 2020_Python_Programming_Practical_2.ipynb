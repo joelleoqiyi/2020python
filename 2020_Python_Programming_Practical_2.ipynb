{
  "nbformat": 4,
  "nbformat_minor": 0,
  "metadata": {
    "colab": {
      "name": "2020 Python Programming Practical 2.ipynb",
      "provenance": [],
      "collapsed_sections": [],
      "include_colab_link": true
    },
    "kernelspec": {
      "name": "python3",
      "display_name": "Python 3"
    }
  },
  "cells": [
    {
      "cell_type": "markdown",
      "metadata": {
        "id": "view-in-github",
        "colab_type": "text"
      },
      "source": [
        "<a href=\"https://colab.research.google.com/github/t0336000d/2020python/blob/master/2020_Python_Programming_Practical_2.ipynb\" target=\"_parent\"><img src=\"https://colab.research.google.com/assets/colab-badge.svg\" alt=\"Open In Colab\"/></a>"
      ]
    },
    {
      "cell_type": "markdown",
      "metadata": {
        "id": "jp3BkDml8xiR",
        "colab_type": "text"
      },
      "source": [
        "# **2020 Python Programming Practical 2**\n",
        "\n",
        "If you do not have one already, create a [GitHub](https://github.com) account using your DHS Mail.\n",
        "\n",
        "Create a public repository 2020python\n",
        "\n",
        "File --> Save a copy in GitHub under your 2020python repository\n",
        "\n",
        "Also share this colab file with edit access with computing@dhs.sg\n",
        "\n"
      ]
    },
    {
      "cell_type": "markdown",
      "metadata": {
        "id": "-U8w0oQW9P_b",
        "colab_type": "text"
      },
      "source": [
        "**Q1. (Check if number is odd or even)**\n",
        "\n",
        "Write a program that reads an integer and checks whether it is odd or even. \n",
        "\n",
        "Sample interaction:\n",
        "```\n",
        "Enter number: 25\n",
        "25 is odd\n",
        "\n",
        "Enter number: 8\n",
        "8 is even\n",
        "\n",
        "```"
      ]
    },
    {
      "cell_type": "code",
      "metadata": {
        "id": "D0uTR7B-8qbF",
        "colab_type": "code",
        "colab": {
          "base_uri": "https://localhost:8080/",
          "height": 51
        },
        "outputId": "3f02578a-535e-46f3-df14-adfeb11a92aa"
      },
      "source": [
        "x = input()\n",
        "if int(x) % 2 == 0:\n",
        "  print(x, \"is even\")\n",
        "else:\n",
        "  print(x, \"is odd\")"
      ],
      "execution_count": 4,
      "outputs": [
        {
          "output_type": "stream",
          "text": [
            "8\n",
            "8 is even\n"
          ],
          "name": "stdout"
        }
      ]
    },
    {
      "cell_type": "markdown",
      "metadata": {
        "id": "7Ui5CuS_9Za1",
        "colab_type": "text"
      },
      "source": [
        "**Q2. (Validate triangles and compute perimeter)**\n",
        "\n",
        "Write a program that reads three edges for a triangle and determines whether the input is valid. The input is valid if the sum of any two edges is greater than the third edge. The program will compute the perimeter of the triangle if the input is valid. Otherwise, display that the input is invalid. \n",
        "\n",
        "Sample interaction:\n",
        "```\n",
        "Enter side 1: 2\n",
        "Enter side 2: 2\n",
        "Enter side 3: 1\n",
        "Perimeter = 5\n",
        "\n",
        "Enter side 1: 1\n",
        "Enter side 2: 2\n",
        "Enter side 3: 1\n",
        "Invalid triangle!\n",
        "\n",
        "```\n",
        "\n",
        "\n"
      ]
    },
    {
      "cell_type": "code",
      "metadata": {
        "id": "CfkRAAWV9cXS",
        "colab_type": "code",
        "colab": {
          "base_uri": "https://localhost:8080/",
          "height": 85
        },
        "outputId": "fa21f581-6495-4093-eea1-68f4c3ca20a5"
      },
      "source": [
        "x = int(input())\n",
        "y = int(input())\n",
        "z = int(input())\n",
        "if x+y>z and x+z>y and y+z>x:\n",
        "  print(\"Perimeter = \" + str(x+y+z))\n",
        "else:\n",
        "  print(\"Invalid triangle!\")"
      ],
      "execution_count": 7,
      "outputs": [
        {
          "output_type": "stream",
          "text": [
            "1\n",
            "2\n",
            "1\n",
            "Invalid triangle!\n"
          ],
          "name": "stdout"
        }
      ]
    },
    {
      "cell_type": "markdown",
      "metadata": {
        "id": "aVhHiT8w9c7d",
        "colab_type": "text"
      },
      "source": [
        "**Q3. (Determine grade)**\n",
        "\n",
        "Write a program that prompts the user to enter a score between 0 and 100 inclusive and output the corresponding grade as well as a Pass/Fail status. Output an error message if the entered score in not within the valid range. The grading system is as follows (S and U are not passes):\n",
        "\n",
        "A: 70 - 100  \n",
        "B: 60 - 69  \n",
        "C: 55 - 59  \n",
        "D: 50 - 54  \n",
        "E: 45 - 49  \n",
        "S: 35 - 44  \n",
        "U: 0 - 34\n",
        "\n",
        "Sample interaction:\n",
        "```\n",
        "Enter score: 73\n",
        "A\n",
        "Pass\n",
        "\n",
        "Enter score: 37\n",
        "S\n",
        "Fail\n",
        "\n",
        "Enter Score: -1\n",
        "Invalid! Score must be within 0 - 100.\n",
        "\n",
        "```"
      ]
    },
    {
      "cell_type": "code",
      "metadata": {
        "id": "PwRmweEa9fny",
        "colab_type": "code",
        "colab": {
          "base_uri": "https://localhost:8080/",
          "height": 68
        },
        "outputId": "7522ea02-d2d9-4a5f-d2d6-38423ff0638a"
      },
      "source": [
        "x = float(input())\n",
        "if 70 <= x <= 100:\n",
        "  print (\"A \\nPass\")\n",
        "elif 60 <= x <= 69:\n",
        "  print (\"B \\nPass\")\n",
        "elif 55 <= x <= 59:\n",
        "  print (\"C \\nPass\")\n",
        "elif 50 <= x <= 54:\n",
        "  print (\"D \\nPass\")\n",
        "elif 45 <= x <= 49:\n",
        "  print (\"E \\nPass\")\n",
        "elif 35 <= x <= 44:\n",
        "  print (\"S \\nFail\")\n",
        "elif 0 <= x <= 34:\n",
        "  print (\"U \\nFail\")\n",
        "elif x > 100 or x < 0:\n",
        "  print(\"Invalid! Score must be within 0 - 100\")"
      ],
      "execution_count": 15,
      "outputs": [
        {
          "output_type": "stream",
          "text": [
            "37\n",
            "S \n",
            "Fail\n"
          ],
          "name": "stdout"
        }
      ]
    },
    {
      "cell_type": "markdown",
      "metadata": {
        "id": "GwAIqQNY9gFd",
        "colab_type": "text"
      },
      "source": [
        "**Q4. (Determine leap year)**\n",
        "\n",
        "Write a program that prompts the user to enter a year and determines whether it is a leap year. A year is a leap year if it is divisible by 4 but not 100, or is divisible by 400. \n",
        "\n",
        "Sample interaction:\n",
        "```\n",
        "Enter year: 2020\n",
        "Leap\n",
        "\n",
        "Enter year: 2019\n",
        "Non-Leap\n",
        "```"
      ]
    },
    {
      "cell_type": "code",
      "metadata": {
        "id": "aOozTwoR9j9B",
        "colab_type": "code",
        "colab": {
          "base_uri": "https://localhost:8080/",
          "height": 51
        },
        "outputId": "b99b3499-40cb-46fc-9478-22b21772dbcb"
      },
      "source": [
        "x = int(input())\n",
        "if (x%4 == 0 and x%100 != 0) or x%400==0:\n",
        "  print(\"Leap\")\n",
        "else:\n",
        "  print(\"Non-Leap\")"
      ],
      "execution_count": 18,
      "outputs": [
        {
          "output_type": "stream",
          "text": [
            "2019\n",
            "Non-Leap\n"
          ],
          "name": "stdout"
        }
      ]
    },
    {
      "cell_type": "markdown",
      "metadata": {
        "id": "lE0ScX9e9kcg",
        "colab_type": "text"
      },
      "source": [
        "**Q5. (Find number of days in a month)**\n",
        "\n",
        "Write a program that prompts the user to enter the month and year, and displays the number of days in the month. Sample interaction:\n",
        "```\n",
        "Enter month: 2\n",
        "Enter year: 2020\n",
        "February 2020 has 29 days.\n",
        "\n",
        "Enter month: 3\n",
        "Enter year: 2021\n",
        "March 2021 has 31 days.\n",
        "\n",
        "```"
      ]
    },
    {
      "cell_type": "code",
      "metadata": {
        "id": "sE_bxwDs9mf6",
        "colab_type": "code",
        "colab": {
          "base_uri": "https://localhost:8080/",
          "height": 68
        },
        "outputId": "4cb30c09-8a98-408e-8e14-04e19a08e177"
      },
      "source": [
        "calendar = [\"\",\"January\", \"Feburary\", \"March\", \"April\", \"May\", \"June\", \"July\", \"August\", \"September\", \"October\", \"November\", \"December\"]\n",
        "y = int(input())\n",
        "x = int(input())\n",
        "if (x%4 == 0 and x%100 != 0) or x%400==0:\n",
        "  if y == (1 or 3 or 5 or 7 or 8 or 10 or 12):\n",
        "    print (calendar[y], str(x), \"has\", 31, \"days\") \n",
        "  elif y == (4 or 6 or 9 or 11):\n",
        "    print(calendar[y], str(x), \"has\", 30, \"days\")\n",
        "  else:\n",
        "    print(calendar[y], str(x), \"has\", 29, \"days\")\n",
        "else:\n",
        "  if y == (1 or 3 or 5 or 7 or 8 or 10 or 12):\n",
        "    print (calendar[y], str(x), \"has\", 31, \"days\") \n",
        "  elif y == (4 or 6 or 9 or 11):\n",
        "    print(calendar[y], str(x), \"has\", 30, \"days\")\n",
        "  else:\n",
        "    print(calendar[y], str(x), \"has\", 28, \"days\")"
      ],
      "execution_count": 25,
      "outputs": [
        {
          "output_type": "stream",
          "text": [
            "2\n",
            "2020\n",
            "Feburary 2020 has 29 days\n"
          ],
          "name": "stdout"
        }
      ]
    },
    {
      "cell_type": "markdown",
      "metadata": {
        "id": "KSviQY0T9m7Q",
        "colab_type": "text"
      },
      "source": [
        "**Q6. (Convert from kilograms to pounds)**\n",
        "\n",
        "Write a program that displays the following table (1 kilogram = 2.2 pounds):\n",
        "```\n",
        "Kilograms Pounds\n",
        "1         2.2\n",
        "2         4.4\n",
        "3         6.6\n",
        "...\n",
        "9         19.8\n",
        "10        22.0\n",
        "```"
      ]
    },
    {
      "cell_type": "code",
      "metadata": {
        "id": "YbH9Pbul9rK-",
        "colab_type": "code",
        "colab": {
          "base_uri": "https://localhost:8080/",
          "height": 204
        },
        "outputId": "11a31172-fd26-492c-eea7-fcfc00eb3866"
      },
      "source": [
        "print(\"Kilograms Pounds\")\n",
        "for i in range (1,11):\n",
        "  print (str(i) +\"\"+(10-len(str(i)))*\" \"+\"\"+\"{:.1f}\".format(i*2.2))\n",
        "  '''\n",
        "  print (i, end=\"\")\n",
        "  print ((10-len(str(i)))*\" \",end=\"\")\n",
        "  y = float(i*2.2)\n",
        "  print(f\"{y:.1f}\")\n",
        "  '''\n"
      ],
      "execution_count": 42,
      "outputs": [
        {
          "output_type": "stream",
          "text": [
            "Kilograms Pounds\n",
            "1         2.2\n",
            "2         4.4\n",
            "3         6.6\n",
            "4         8.8\n",
            "5         11.0\n",
            "6         13.2\n",
            "7         15.4\n",
            "8         17.6\n",
            "9         19.8\n",
            "10        22.0\n"
          ],
          "name": "stdout"
        }
      ]
    },
    {
      "cell_type": "markdown",
      "metadata": {
        "id": "V9Z95nlg97e4",
        "colab_type": "text"
      },
      "source": [
        "**Q7. (Convert from miles to kilometres)**\n",
        "\n",
        "Write a program that displays the following two tables side-by-side (1 mile = 1.609 kilometres):\n",
        "```\n",
        "Miles\tKilometers\tKilometres\tMiles\n",
        "1    \t1.609     \t20        \t12.430\n",
        "2    \t3.218     \t25        \t15.538\n",
        "\n",
        "...\n",
        "9    \t14.481    \t60        \t37.290\n",
        "10   \t16.090    \t65        \t40.398\n",
        "```\n",
        "\n"
      ]
    },
    {
      "cell_type": "code",
      "metadata": {
        "id": "1AZvvAW499PK",
        "colab_type": "code",
        "colab": {
          "base_uri": "https://localhost:8080/",
          "height": 204
        },
        "outputId": "6b29e8f6-ee6a-4244-9a7b-4cfbafa6c97a"
      },
      "source": [
        "print(\"Miles Kilometers Kilometers Miles\")\n",
        "for i in range (1,11):\n",
        "  print (str(i)+\"\"+(6-len(str(i)))*\" \" + \"{:.3f}\".format(i*1.609) + (11-len(str(\"{:.3f}\".format(i*1.609))))*\" \" + str((i+3)*5) + (11-len(str((i+3)*5)))*\" \" + \"{:.3f}\".format(((i+3)*5)/1.609))"
      ],
      "execution_count": 40,
      "outputs": [
        {
          "output_type": "stream",
          "text": [
            "Miles Kilometers Kilometers Miles\n",
            "1     1.609      20         12.430\n",
            "2     3.218      25         15.538\n",
            "3     4.827      30         18.645\n",
            "4     6.436      35         21.753\n",
            "5     8.045      40         24.860\n",
            "6     9.654      45         27.968\n",
            "7     11.263     50         31.075\n",
            "8     12.872     55         34.183\n",
            "9     14.481     60         37.290\n",
            "10    16.090     65         40.398\n"
          ],
          "name": "stdout"
        }
      ]
    },
    {
      "cell_type": "markdown",
      "metadata": {
        "colab_type": "text",
        "id": "79toYNfyD9XP"
      },
      "source": [
        "**Q8. (Find two highest scores)**\n",
        "\n",
        "Write a program that prompts the user to enter the number of students and each student's name and score, and finally displays the student with the highest score and the student with the second-highest score. Enter up to 5 student records.\n",
        "\n"
      ]
    },
    {
      "cell_type": "code",
      "metadata": {
        "id": "Se5J95IjC9bT",
        "colab_type": "code",
        "colab": {
          "base_uri": "https://localhost:8080/",
          "height": 170
        },
        "outputId": "2e5794f4-a32c-44ba-c3aa-c2961a009f74"
      },
      "source": [
        "xx = [0,0,0]\n",
        "first = 0\n",
        "second = 0\n",
        "x = int(input())\n",
        "for i in range(1,x+1):\n",
        "  xx.append(input())\n",
        "  y = int(input())\n",
        "  if y > xx[first*2]:\n",
        "    second = first\n",
        "    first = i\n",
        "  elif y > xx[second*2]:\n",
        "    second = i\n",
        "  xx.append(y)\n",
        "print(\"The student with the highest score is:\", xx[first*2-1], \"and the student with the second highest score is\", xx[second*2-1])"
      ],
      "execution_count": 54,
      "outputs": [
        {
          "output_type": "stream",
          "text": [
            "3\n",
            "Joel\n",
            "5\n",
            "Jake\n",
            "3\n",
            "Jordan\n",
            "1\n",
            "2 3\n",
            "The student with the highest score is: Joel and the student with the second highest score is Jake\n"
          ],
          "name": "stdout"
        }
      ]
    },
    {
      "cell_type": "markdown",
      "metadata": {
        "id": "seLRswd3ED9x",
        "colab_type": "text"
      },
      "source": [
        "**Q9. (Finding the smallest n such that n<sup>2</sup> > 12000)**\n",
        "\n",
        "Use a while loop to find the smallest integer n such that n<sup>2</sup> is greater than 12,000. "
      ]
    },
    {
      "cell_type": "code",
      "metadata": {
        "id": "n_1AS9EREHgQ",
        "colab_type": "code",
        "colab": {
          "base_uri": "https://localhost:8080/",
          "height": 34
        },
        "outputId": "cb841994-d20a-4821-d7fd-0ebe614bbe70"
      },
      "source": [
        "n=0\n",
        "while n*n <= 12000:\n",
        "  n+=1\n",
        "print(n)"
      ],
      "execution_count": 55,
      "outputs": [
        {
          "output_type": "stream",
          "text": [
            "110\n"
          ],
          "name": "stdout"
        }
      ]
    },
    {
      "cell_type": "markdown",
      "metadata": {
        "id": "YHyv5TE6EH24",
        "colab_type": "text"
      },
      "source": [
        "**Q10. (Finding the largest n such that n<sup>3</sup> < 12000)** \n",
        "\n",
        "Use a while loop to find the largest integer n such that n<sup>3</sup> is less than 12,000."
      ]
    },
    {
      "cell_type": "code",
      "metadata": {
        "id": "B--GNWkcEKkR",
        "colab_type": "code",
        "colab": {
          "base_uri": "https://localhost:8080/",
          "height": 34
        },
        "outputId": "0875ef87-25f7-4e0a-beec-e28070847e64"
      },
      "source": [
        "n=0\n",
        "while n*n*n < 12000:\n",
        "  n+=1\n",
        "print(n-1)"
      ],
      "execution_count": 56,
      "outputs": [
        {
          "output_type": "stream",
          "text": [
            "22\n"
          ],
          "name": "stdout"
        }
      ]
    },
    {
      "cell_type": "markdown",
      "metadata": {
        "id": "lr8Er0cXEKzY",
        "colab_type": "text"
      },
      "source": [
        "**Q11. (Computing the greatest common divisor)**\n",
        "\n",
        "A solution to find the greatest common divisor of two integers n1 and n2 is as follows:\n",
        "* First find d to be the minimum of n1 and n2\n",
        "* Then check whether d, d-1, … d-2, 2, or 1 is a divisor for both n1 and n2 in this order.\n",
        "* The first such common divisor is the greatest common divisor for n1 and n2. \n",
        "\n",
        "Write a program to implement this solution.  \n",
        "Sample interaction:\n",
        "```\n",
        "Enter n1: 12\n",
        "Enter n2: 18\n",
        "GCD: 6\n",
        "```"
      ]
    },
    {
      "cell_type": "code",
      "metadata": {
        "id": "T8iKWDpgEOSw",
        "colab_type": "code",
        "colab": {
          "base_uri": "https://localhost:8080/",
          "height": 68
        },
        "outputId": "f43350db-46a6-4892-83ce-d58c2db697a1"
      },
      "source": [
        "x = int(input())\n",
        "y = int(input())\n",
        "d = int(min(x,y))\n",
        "while d > 0:\n",
        "  if x % d == 0 and y % d == 0:\n",
        "    print(d)\n",
        "    break\n",
        "  d-=1"
      ],
      "execution_count": 64,
      "outputs": [
        {
          "output_type": "stream",
          "text": [
            "4\n",
            "6\n",
            "2\n"
          ],
          "name": "stdout"
        }
      ]
    },
    {
      "cell_type": "markdown",
      "metadata": {
        "id": "-kojjY6zEOkn",
        "colab_type": "text"
      },
      "source": [
        "**Q12. (Find factors of a positive integer)**\n",
        "\n",
        "Write a program that reads a positive integer > 1 and displays all its factors.   \n",
        "Sample interaction:\n",
        "```\n",
        "Enter n: 120\n",
        "Factors: 2 2 2 3 5 \n",
        "```"
      ]
    },
    {
      "cell_type": "code",
      "metadata": {
        "id": "s3hoL9l5EPjU",
        "colab_type": "code",
        "colab": {
          "base_uri": "https://localhost:8080/",
          "height": 51
        },
        "outputId": "5e884bf4-5e0f-4db4-ada1-7572702b3ef1"
      },
      "source": [
        "x = int(input())\n",
        "i = 2\n",
        "print(\"Factors:\", end=\" \")\n",
        "while x >= i:\n",
        "  if x % i == 0:\n",
        "    x /= i\n",
        "    print(i, end=\" \")\n",
        "  else:\n",
        "    i+=1"
      ],
      "execution_count": 71,
      "outputs": [
        {
          "output_type": "stream",
          "text": [
            "120\n",
            "Factors: 2 2 2 3 5 "
          ],
          "name": "stdout"
        }
      ]
    }
  ]
}