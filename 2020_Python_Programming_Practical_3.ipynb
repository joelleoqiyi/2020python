{
  "nbformat": 4,
  "nbformat_minor": 0,
  "metadata": {
    "colab": {
      "name": "2020 Python Programming Practical 3.ipynb",
      "provenance": [],
      "collapsed_sections": [],
      "include_colab_link": true
    },
    "kernelspec": {
      "name": "python3",
      "display_name": "Python 3"
    }
  },
  "cells": [
    {
      "cell_type": "markdown",
      "metadata": {
        "id": "view-in-github",
        "colab_type": "text"
      },
      "source": [
        "<a href=\"https://colab.research.google.com/github/t0336000d/2020python/blob/master/2020_Python_Programming_Practical_3.ipynb\" target=\"_parent\"><img src=\"https://colab.research.google.com/assets/colab-badge.svg\" alt=\"Open In Colab\"/></a>"
      ]
    },
    {
      "cell_type": "markdown",
      "metadata": {
        "id": "jp3BkDml8xiR",
        "colab_type": "text"
      },
      "source": [
        "# **2020 Python Programming Practical 3**\n",
        "\n",
        "If you do not have one already, create a [GitHub](https://github.com) account using your DHS Mail.\n",
        "\n",
        "Create a public repository 2020python\n",
        "\n",
        "File --> Save a copy in GitHub under your 2020python repository\n",
        "\n",
        "Also share this colab file with edit access with computing@dhs.sg\n",
        "\n"
      ]
    },
    {
      "cell_type": "markdown",
      "metadata": {
        "id": "-U8w0oQW9P_b",
        "colab_type": "text"
      },
      "source": [
        "**Q1. (Displaying an integer reversed)**\n",
        "\n",
        "Write a function reverse_int(n) to display an integer in reverse order:\n",
        "\n",
        "For example, reverse_int(3456) displays 6543."
      ]
    },
    {
      "cell_type": "code",
      "metadata": {
        "id": "D0uTR7B-8qbF",
        "colab_type": "code",
        "outputId": "1a108fd6-2930-47ab-e9dc-559888fef323",
        "colab": {
          "base_uri": "https://localhost:8080/",
          "height": 34
        }
      },
      "source": [
        "def reverse_int(n):\n",
        "  nn = n\n",
        "  i = -1\n",
        "  while nn > 0:\n",
        "    nn //= 10\n",
        "    i += 1\n",
        "  num = 0\n",
        "  while n > 0:\n",
        "    num += (n % 10)*(pow(10, i))\n",
        "    \n",
        "    n = n // 10\n",
        "    i -= 1\n",
        "  return num\n",
        "\n",
        "reverse_int(45678)\n"
      ],
      "execution_count": 0,
      "outputs": [
        {
          "output_type": "execute_result",
          "data": {
            "text/plain": [
              "87654"
            ]
          },
          "metadata": {
            "tags": []
          },
          "execution_count": 8
        }
      ]
    },
    {
      "cell_type": "markdown",
      "metadata": {
        "id": "7Ui5CuS_9Za1",
        "colab_type": "text"
      },
      "source": [
        "**Q2. (Displaying patterns)**\n",
        "\n",
        "Write a function display_pattern(n) to display a pattern as follows:\n",
        "```\n",
        "              1\n",
        "            2 1\n",
        "          3 2 1\n",
        "...\n",
        "n n-1 ... 3 2 1 \n",
        "```\n",
        "\n",
        "\n"
      ]
    },
    {
      "cell_type": "code",
      "metadata": {
        "id": "CfkRAAWV9cXS",
        "colab_type": "code",
        "outputId": "5d80fdeb-3fea-4927-d00e-0ec11ebfa0c4",
        "colab": {
          "base_uri": "https://localhost:8080/",
          "height": 187
        }
      },
      "source": [
        "def display_pattern(n):\n",
        "  for i in range (1, n+1):\n",
        "    for k in range ((n-i)*2):\n",
        "      print(\" \", end=\"\")\n",
        "    for j in range (i, 0, -1):\n",
        "      print(j, end=\" \")\n",
        "    print(\"\\n\")\n",
        "\n",
        "display_pattern(5)"
      ],
      "execution_count": 0,
      "outputs": [
        {
          "output_type": "stream",
          "text": [
            "        1 \n",
            "\n",
            "      2 1 \n",
            "\n",
            "    3 2 1 \n",
            "\n",
            "  4 3 2 1 \n",
            "\n",
            "5 4 3 2 1 \n",
            "\n"
          ],
          "name": "stdout"
        }
      ]
    },
    {
      "cell_type": "markdown",
      "metadata": {
        "id": "aVhHiT8w9c7d",
        "colab_type": "text"
      },
      "source": [
        "**Q3. (Computing GCD)**\n",
        "\n",
        "Write a function gcd(m, n) that returns the greatest common divisor between two positive integers:\n",
        "\n",
        "Test your program with gcd(24, 16) and gcd(255, 25)."
      ]
    },
    {
      "cell_type": "code",
      "metadata": {
        "id": "PwRmweEa9fny",
        "colab_type": "code",
        "outputId": "1259e832-af79-49da-acba-7bc79788d513",
        "colab": {
          "base_uri": "https://localhost:8080/",
          "height": 34
        }
      },
      "source": [
        "def gcd(m,n):\n",
        "  ans = 0\n",
        "  min_num = min(m,n)\n",
        "  for i in range(min_num, 0, -1):\n",
        "    if n%i == 0 and m%i == 0:\n",
        "      ans = i\n",
        "      return ans\n",
        "\n",
        "gcd (24, 16)"
      ],
      "execution_count": 0,
      "outputs": [
        {
          "output_type": "execute_result",
          "data": {
            "text/plain": [
              "8"
            ]
          },
          "metadata": {
            "tags": []
          },
          "execution_count": 9
        }
      ]
    },
    {
      "cell_type": "markdown",
      "metadata": {
        "colab_type": "text",
        "id": "wWe4kRS8ZmwP"
      },
      "source": [
        "**Q4. (Summing series)**\n",
        "\n",
        "Write a function m_series(i) to compute the following series:\n",
        "\n",
        "m(i) = ½ + ⅔ + … + i/(i+1)\n",
        "\n",
        "Generate the following table:\n",
        "```\n",
        "i         m(i)     \n",
        "1         0.5000   \n",
        "2         1.1667   \n",
        "... \n",
        "19        16.4023  \n",
        "20        17.3546  \n",
        "```"
      ]
    },
    {
      "cell_type": "code",
      "metadata": {
        "id": "aOozTwoR9j9B",
        "colab_type": "code",
        "outputId": "ef3bb727-d584-4214-d83c-8496c939be0b",
        "colab": {
          "base_uri": "https://localhost:8080/",
          "height": 370
        }
      },
      "source": [
        "def m_series(n):\n",
        "  print (\"i         m(i)\")\n",
        "  for i in range(1, n+1):\n",
        "    print (i, end=(10-len(str(i))) * \" \")\n",
        "    ans = 0\n",
        "    for k in range (1, i+1):\n",
        "      #print(k)\n",
        "      #print(k/(k+1))\n",
        "      ans += (k/(k+1))\n",
        "    print(\"{0:.4f}\".format(ans))\n",
        "\n",
        "m_series(20)\n"
      ],
      "execution_count": 0,
      "outputs": [
        {
          "output_type": "stream",
          "text": [
            "i         m(i)\n",
            "1         0.5000\n",
            "2         1.1667\n",
            "3         1.9167\n",
            "4         2.7167\n",
            "5         3.5500\n",
            "6         4.4071\n",
            "7         5.2821\n",
            "8         6.1710\n",
            "9         7.0710\n",
            "10        7.9801\n",
            "11        8.8968\n",
            "12        9.8199\n",
            "13        10.7484\n",
            "14        11.6818\n",
            "15        12.6193\n",
            "16        13.5604\n",
            "17        14.5049\n",
            "18        15.4523\n",
            "19        16.4023\n",
            "20        17.3546\n"
          ],
          "name": "stdout"
        }
      ]
    },
    {
      "cell_type": "markdown",
      "metadata": {
        "id": "lE0ScX9e9kcg",
        "colab_type": "text"
      },
      "source": [
        "**Q5. (Prime number)**\n",
        "\n",
        "Write a function to determine whether an integer is a prime number. An integer greater than 1 is a prime number if its only divisor is 1 or itself. For example, is_prime(11) returns True, and is_prime(9) returns False.\n",
        "\n",
        "Use the is_prime(n) function to find the first thousand prime numbers and display every ten prime numbers in a row, as follows:\n",
        "```\n",
        "2   3   5   7   11   13   17   19   23   29\n",
        "31  37  41  43  47   53   59   61   67   71\n",
        "73  79  83  89  97  ...\n",
        "...\n",
        "```"
      ]
    },
    {
      "cell_type": "code",
      "metadata": {
        "id": "sE_bxwDs9mf6",
        "colab_type": "code",
        "outputId": "eddcc72f-638e-4a62-8fbe-0943e559fc22",
        "colab": {
          "base_uri": "https://localhost:8080/",
          "height": 1000
        }
      },
      "source": [
        "import math\n",
        "\n",
        "'''\n",
        "def is_prime(n):\n",
        "  for i in range(2, n):\n",
        "    if n%i == 0:\n",
        "      return False\n",
        "    else:\n",
        "      return True\n",
        "'''\n",
        "\n",
        "def is_prime(n):\n",
        "  if n == 2: #2 is a prime number as 2 is the only even prime number \n",
        "    return True\n",
        "  elif n % 2 == 0: #if it is an even number print false \n",
        "    return False \n",
        "  else:\n",
        "    for i in range(3, int(math.sqrt(n))+1, 2): #only test for all the other odd numbers in the loop and only need to test until the (square root of n + 1)\n",
        "    # start at 3 as 0, 1, 2 is already evaluated \n",
        "      if n % i == 0:\n",
        "        return False\n",
        "    return True\n",
        "  \n",
        "arr = []\n",
        "ii = 2\n",
        "while len(arr) != 1000:\n",
        "  if is_prime(ii) == True:\n",
        "    #print(ii)\n",
        "    arr.append(ii)\n",
        "  ii += 1\n",
        "\n",
        "ll = 0\n",
        "lengthh = len(str(arr[-1]))+1\n",
        "#print(lengthh)\n",
        "#totallength = lengthh*10+9\n",
        "#print(totallength)\n",
        "while ll < 1000:\n",
        "  print(arr[ll], end=\"\")\n",
        "  #print(len(str(arr[ll])))\n",
        "  #print(lengthh - len(str(arr[ll])))\n",
        "  print(\" \"*(lengthh - len(str(arr[ll]))), end=\"\")  \n",
        "  ll += 1\n",
        "  if ll % 10 == 0 and ll != 0:\n",
        "    print(\"\\n\")\n",
        "\n"
      ],
      "execution_count": 0,
      "outputs": [
        {
          "output_type": "stream",
          "text": [
            "2    3    5    7    11   13   17   19   23   29   \n",
            "\n",
            "31   37   41   43   47   53   59   61   67   71   \n",
            "\n",
            "73   79   83   89   97   101  103  107  109  113  \n",
            "\n",
            "127  131  137  139  149  151  157  163  167  173  \n",
            "\n",
            "179  181  191  193  197  199  211  223  227  229  \n",
            "\n",
            "233  239  241  251  257  263  269  271  277  281  \n",
            "\n",
            "283  293  307  311  313  317  331  337  347  349  \n",
            "\n",
            "353  359  367  373  379  383  389  397  401  409  \n",
            "\n",
            "419  421  431  433  439  443  449  457  461  463  \n",
            "\n",
            "467  479  487  491  499  503  509  521  523  541  \n",
            "\n",
            "547  557  563  569  571  577  587  593  599  601  \n",
            "\n",
            "607  613  617  619  631  641  643  647  653  659  \n",
            "\n",
            "661  673  677  683  691  701  709  719  727  733  \n",
            "\n",
            "739  743  751  757  761  769  773  787  797  809  \n",
            "\n",
            "811  821  823  827  829  839  853  857  859  863  \n",
            "\n",
            "877  881  883  887  907  911  919  929  937  941  \n",
            "\n",
            "947  953  967  971  977  983  991  997  1009 1013 \n",
            "\n",
            "1019 1021 1031 1033 1039 1049 1051 1061 1063 1069 \n",
            "\n",
            "1087 1091 1093 1097 1103 1109 1117 1123 1129 1151 \n",
            "\n",
            "1153 1163 1171 1181 1187 1193 1201 1213 1217 1223 \n",
            "\n",
            "1229 1231 1237 1249 1259 1277 1279 1283 1289 1291 \n",
            "\n",
            "1297 1301 1303 1307 1319 1321 1327 1361 1367 1373 \n",
            "\n",
            "1381 1399 1409 1423 1427 1429 1433 1439 1447 1451 \n",
            "\n",
            "1453 1459 1471 1481 1483 1487 1489 1493 1499 1511 \n",
            "\n",
            "1523 1531 1543 1549 1553 1559 1567 1571 1579 1583 \n",
            "\n",
            "1597 1601 1607 1609 1613 1619 1621 1627 1637 1657 \n",
            "\n",
            "1663 1667 1669 1693 1697 1699 1709 1721 1723 1733 \n",
            "\n",
            "1741 1747 1753 1759 1777 1783 1787 1789 1801 1811 \n",
            "\n",
            "1823 1831 1847 1861 1867 1871 1873 1877 1879 1889 \n",
            "\n",
            "1901 1907 1913 1931 1933 1949 1951 1973 1979 1987 \n",
            "\n",
            "1993 1997 1999 2003 2011 2017 2027 2029 2039 2053 \n",
            "\n",
            "2063 2069 2081 2083 2087 2089 2099 2111 2113 2129 \n",
            "\n",
            "2131 2137 2141 2143 2153 2161 2179 2203 2207 2213 \n",
            "\n",
            "2221 2237 2239 2243 2251 2267 2269 2273 2281 2287 \n",
            "\n",
            "2293 2297 2309 2311 2333 2339 2341 2347 2351 2357 \n",
            "\n",
            "2371 2377 2381 2383 2389 2393 2399 2411 2417 2423 \n",
            "\n",
            "2437 2441 2447 2459 2467 2473 2477 2503 2521 2531 \n",
            "\n",
            "2539 2543 2549 2551 2557 2579 2591 2593 2609 2617 \n",
            "\n",
            "2621 2633 2647 2657 2659 2663 2671 2677 2683 2687 \n",
            "\n",
            "2689 2693 2699 2707 2711 2713 2719 2729 2731 2741 \n",
            "\n",
            "2749 2753 2767 2777 2789 2791 2797 2801 2803 2819 \n",
            "\n",
            "2833 2837 2843 2851 2857 2861 2879 2887 2897 2903 \n",
            "\n",
            "2909 2917 2927 2939 2953 2957 2963 2969 2971 2999 \n",
            "\n",
            "3001 3011 3019 3023 3037 3041 3049 3061 3067 3079 \n",
            "\n",
            "3083 3089 3109 3119 3121 3137 3163 3167 3169 3181 \n",
            "\n",
            "3187 3191 3203 3209 3217 3221 3229 3251 3253 3257 \n",
            "\n",
            "3259 3271 3299 3301 3307 3313 3319 3323 3329 3331 \n",
            "\n",
            "3343 3347 3359 3361 3371 3373 3389 3391 3407 3413 \n",
            "\n",
            "3433 3449 3457 3461 3463 3467 3469 3491 3499 3511 \n",
            "\n",
            "3517 3527 3529 3533 3539 3541 3547 3557 3559 3571 \n",
            "\n",
            "3581 3583 3593 3607 3613 3617 3623 3631 3637 3643 \n",
            "\n",
            "3659 3671 3673 3677 3691 3697 3701 3709 3719 3727 \n",
            "\n",
            "3733 3739 3761 3767 3769 3779 3793 3797 3803 3821 \n",
            "\n",
            "3823 3833 3847 3851 3853 3863 3877 3881 3889 3907 \n",
            "\n",
            "3911 3917 3919 3923 3929 3931 3943 3947 3967 3989 \n",
            "\n",
            "4001 4003 4007 4013 4019 4021 4027 4049 4051 4057 \n",
            "\n",
            "4073 4079 4091 4093 4099 4111 4127 4129 4133 4139 \n",
            "\n",
            "4153 4157 4159 4177 4201 4211 4217 4219 4229 4231 \n",
            "\n",
            "4241 4243 4253 4259 4261 4271 4273 4283 4289 4297 \n",
            "\n",
            "4327 4337 4339 4349 4357 4363 4373 4391 4397 4409 \n",
            "\n",
            "4421 4423 4441 4447 4451 4457 4463 4481 4483 4493 \n",
            "\n",
            "4507 4513 4517 4519 4523 4547 4549 4561 4567 4583 \n",
            "\n",
            "4591 4597 4603 4621 4637 4639 4643 4649 4651 4657 \n",
            "\n",
            "4663 4673 4679 4691 4703 4721 4723 4729 4733 4751 \n",
            "\n",
            "4759 4783 4787 4789 4793 4799 4801 4813 4817 4831 \n",
            "\n",
            "4861 4871 4877 4889 4903 4909 4919 4931 4933 4937 \n",
            "\n",
            "4943 4951 4957 4967 4969 4973 4987 4993 4999 5003 \n",
            "\n",
            "5009 5011 5021 5023 5039 5051 5059 5077 5081 5087 \n",
            "\n",
            "5099 5101 5107 5113 5119 5147 5153 5167 5171 5179 \n",
            "\n",
            "5189 5197 5209 5227 5231 5233 5237 5261 5273 5279 \n",
            "\n",
            "5281 5297 5303 5309 5323 5333 5347 5351 5381 5387 \n",
            "\n",
            "5393 5399 5407 5413 5417 5419 5431 5437 5441 5443 \n",
            "\n",
            "5449 5471 5477 5479 5483 5501 5503 5507 5519 5521 \n",
            "\n",
            "5527 5531 5557 5563 5569 5573 5581 5591 5623 5639 \n",
            "\n",
            "5641 5647 5651 5653 5657 5659 5669 5683 5689 5693 \n",
            "\n",
            "5701 5711 5717 5737 5741 5743 5749 5779 5783 5791 \n",
            "\n",
            "5801 5807 5813 5821 5827 5839 5843 5849 5851 5857 \n",
            "\n",
            "5861 5867 5869 5879 5881 5897 5903 5923 5927 5939 \n",
            "\n",
            "5953 5981 5987 6007 6011 6029 6037 6043 6047 6053 \n",
            "\n",
            "6067 6073 6079 6089 6091 6101 6113 6121 6131 6133 \n",
            "\n",
            "6143 6151 6163 6173 6197 6199 6203 6211 6217 6221 \n",
            "\n",
            "6229 6247 6257 6263 6269 6271 6277 6287 6299 6301 \n",
            "\n",
            "6311 6317 6323 6329 6337 6343 6353 6359 6361 6367 \n",
            "\n",
            "6373 6379 6389 6397 6421 6427 6449 6451 6469 6473 \n",
            "\n",
            "6481 6491 6521 6529 6547 6551 6553 6563 6569 6571 \n",
            "\n",
            "6577 6581 6599 6607 6619 6637 6653 6659 6661 6673 \n",
            "\n",
            "6679 6689 6691 6701 6703 6709 6719 6733 6737 6761 \n",
            "\n",
            "6763 6779 6781 6791 6793 6803 6823 6827 6829 6833 \n",
            "\n",
            "6841 6857 6863 6869 6871 6883 6899 6907 6911 6917 \n",
            "\n",
            "6947 6949 6959 6961 6967 6971 6977 6983 6991 6997 \n",
            "\n",
            "7001 7013 7019 7027 7039 7043 7057 7069 7079 7103 \n",
            "\n",
            "7109 7121 7127 7129 7151 7159 7177 7187 7193 7207 \n",
            "\n",
            "7211 7213 7219 7229 7237 7243 7247 7253 7283 7297 \n",
            "\n",
            "7307 7309 7321 7331 7333 7349 7351 7369 7393 7411 \n",
            "\n",
            "7417 7433 7451 7457 7459 7477 7481 7487 7489 7499 \n",
            "\n",
            "7507 7517 7523 7529 7537 7541 7547 7549 7559 7561 \n",
            "\n",
            "7573 7577 7583 7589 7591 7603 7607 7621 7639 7643 \n",
            "\n",
            "7649 7669 7673 7681 7687 7691 7699 7703 7717 7723 \n",
            "\n",
            "7727 7741 7753 7757 7759 7789 7793 7817 7823 7829 \n",
            "\n",
            "7841 7853 7867 7873 7877 7879 7883 7901 7907 7919 \n",
            "\n"
          ],
          "name": "stdout"
        }
      ]
    },
    {
      "cell_type": "markdown",
      "metadata": {
        "id": "KSviQY0T9m7Q",
        "colab_type": "text"
      },
      "source": [
        "**Q6. (Convert from kilograms to pounds)**\n",
        "\n",
        "Write a function print_matrix(n) that displays an n by n matrix, where n is a positive integer entered by the user. Each element is 0 or 1, which is generated randomly. A 3 by 3 matrix may look like this:\n",
        "```\n",
        "0 1 0\n",
        "0 0 0\n",
        "1 1 1 \n",
        "```"
      ]
    },
    {
      "cell_type": "code",
      "metadata": {
        "id": "YbH9Pbul9rK-",
        "colab_type": "code",
        "outputId": "ad711b24-15ce-41b1-d819-c78cfb6e159f",
        "colab": {
          "base_uri": "https://localhost:8080/",
          "height": 118
        }
      },
      "source": [
        "import random\n",
        "def print_matrix(n):\n",
        "  for i in range (n):\n",
        "    for k in range (n):\n",
        "      print (random.randint(0,1), end=\" \")\n",
        "    print(\"\\n\")\n",
        "\n",
        "print_matrix(3)"
      ],
      "execution_count": 0,
      "outputs": [
        {
          "output_type": "stream",
          "text": [
            "1 1 1 \n",
            "\n",
            "0 0 1 \n",
            "\n",
            "0 0 1 \n",
            "\n"
          ],
          "name": "stdout"
        }
      ]
    },
    {
      "cell_type": "markdown",
      "metadata": {
        "id": "V9Z95nlg97e4",
        "colab_type": "text"
      },
      "source": [
        "**Q7. (Converting milliseconds to hours, minutes, and seconds)**\n",
        "\n",
        "Write a method convert_ms(n) that converts milliseconds to hours, minutes, and seconds. The method returns a string as hours:minutes:seconds. For example, convert_ms(5500) returns a string 0:0:5, convert_ms(100000) returns a string 0:1:40, and convert_ms(555550000) returns a string 154:19:10.\n",
        "\n"
      ]
    },
    {
      "cell_type": "code",
      "metadata": {
        "id": "1AZvvAW499PK",
        "colab_type": "code",
        "outputId": "6cff8627-ba09-4a12-aa39-f75b72fb48d8",
        "colab": {
          "base_uri": "https://localhost:8080/",
          "height": 34
        }
      },
      "source": [
        "def convert_ms(n): #100 ms == 1s\n",
        "  s = 0\n",
        "  hr = 0\n",
        "  minute = 0\n",
        "  bef_s = n // 1000\n",
        "  bef_min = bef_s // 60\n",
        "  s = bef_s % 60\n",
        "  hr = bef_min // 60\n",
        "  minute = bef_min % 60\n",
        "  return (str(hr)+\":\"+str(minute)+\":\"+str(s))\n",
        "\n",
        "convert_ms(555550000)"
      ],
      "execution_count": 0,
      "outputs": [
        {
          "output_type": "execute_result",
          "data": {
            "text/plain": [
              "'154:19:10'"
            ]
          },
          "metadata": {
            "tags": []
          },
          "execution_count": 7
        }
      ]
    }
  ]
}